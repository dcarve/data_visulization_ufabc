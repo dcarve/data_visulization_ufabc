{
  "cells": [
    {
      "cell_type": "code",
      "execution_count": 1,
      "metadata": {},
      "outputs": [],
      "source": [
        "import pandas as pd\n",
        "import numpy as np\n",
        "import matplotlib"
      ]
    },
    {
      "cell_type": "code",
      "execution_count": 2,
      "metadata": {},
      "outputs": [],
      "source": [
        "# pré convertido para utf-8\n",
        "df = pd.read_csv('VIS_Pr_01_Vendas.csv')"
      ]
    },
    {
      "cell_type": "code",
      "execution_count": null,
      "metadata": {},
      "outputs": [],
      "source": [
        "df = df.groupby('Region').agg(\n",
        "    {\n",
        "        'Sales': ['sum'],\n",
        "        'Profit': ['sum'],\n",
        "        'Discount': ['mean']\n",
        "                \n",
        "    }\n",
        ").reset_index()\n",
        "\n",
        "df.columns = [\"_\".join(t).strip('_').replace('-','_').lower() for t in df.columns]"
      ]
    },
    {
      "cell_type": "code",
      "execution_count": 5,
      "metadata": {},
      "outputs": [
        {
          "data": {
            "text/html": [
              "<div>\n",
              "<style scoped>\n",
              "    .dataframe tbody tr th:only-of-type {\n",
              "        vertical-align: middle;\n",
              "    }\n",
              "\n",
              "    .dataframe tbody tr th {\n",
              "        vertical-align: top;\n",
              "    }\n",
              "\n",
              "    .dataframe thead th {\n",
              "        text-align: right;\n",
              "    }\n",
              "</style>\n",
              "<table border=\"1\" class=\"dataframe\">\n",
              "  <thead>\n",
              "    <tr style=\"text-align: right;\">\n",
              "      <th></th>\n",
              "      <th>region</th>\n",
              "      <th>sales_sum</th>\n",
              "      <th>profit_sum</th>\n",
              "      <th>discount_mean</th>\n",
              "    </tr>\n",
              "  </thead>\n",
              "  <tbody>\n",
              "    <tr>\n",
              "      <td>0</td>\n",
              "      <td>Central</td>\n",
              "      <td>501239.8908</td>\n",
              "      <td>39706.3625</td>\n",
              "      <td>0.240353</td>\n",
              "    </tr>\n",
              "    <tr>\n",
              "      <td>1</td>\n",
              "      <td>East</td>\n",
              "      <td>678781.2400</td>\n",
              "      <td>91522.7800</td>\n",
              "      <td>0.145365</td>\n",
              "    </tr>\n",
              "    <tr>\n",
              "      <td>2</td>\n",
              "      <td>South</td>\n",
              "      <td>391721.9050</td>\n",
              "      <td>46749.4303</td>\n",
              "      <td>0.147253</td>\n",
              "    </tr>\n",
              "    <tr>\n",
              "      <td>3</td>\n",
              "      <td>West</td>\n",
              "      <td>725457.8245</td>\n",
              "      <td>108418.4489</td>\n",
              "      <td>0.109335</td>\n",
              "    </tr>\n",
              "  </tbody>\n",
              "</table>\n",
              "</div>"
            ],
            "text/plain": [
              "    region    sales_sum   profit_sum  discount_mean\n",
              "0  Central  501239.8908   39706.3625       0.240353\n",
              "1     East  678781.2400   91522.7800       0.145365\n",
              "2    South  391721.9050   46749.4303       0.147253\n",
              "3     West  725457.8245  108418.4489       0.109335"
            ]
          },
          "execution_count": 5,
          "metadata": {},
          "output_type": "execute_result"
        }
      ],
      "source": [
        "df"
      ]
    },
    {
      "cell_type": "code",
      "execution_count": 6,
      "metadata": {},
      "outputs": [],
      "source": [
        "#exportando csv com configurações do MS excel\n",
        "df.to_csv('result.csv', sep=';', index=False, encoding='utf-8-sig')"
      ]
    }
  ],
  "metadata": {
    "colab": {
      "provenance": []
    },
    "kernelspec": {
      "display_name": "data_viz",
      "language": "python",
      "name": "python3"
    },
    "language_info": {
      "codemirror_mode": {
        "name": "ipython",
        "version": 3
      },
      "file_extension": ".py",
      "mimetype": "text/x-python",
      "name": "python",
      "nbconvert_exporter": "python",
      "pygments_lexer": "ipython3",
      "version": "3.7.4"
    },
    "vscode": {
      "interpreter": {
        "hash": "1ca62ec6ea13cbf9143c5885804081fdcbbce2e17c374b325371ba6138d04c51"
      }
    }
  },
  "nbformat": 4,
  "nbformat_minor": 0
}
