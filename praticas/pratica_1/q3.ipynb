{
 "cells": [
  {
   "cell_type": "code",
   "execution_count": 2,
   "metadata": {},
   "outputs": [],
   "source": [
    "import pandas as pd"
   ]
  },
  {
   "cell_type": "code",
   "execution_count": 3,
   "metadata": {},
   "outputs": [],
   "source": [
    "# pré convertido para utf-8\n",
    "df = pd.read_csv('VIS_Pr_01_Vendas.csv')"
   ]
  },
  {
   "cell_type": "code",
   "execution_count": 4,
   "metadata": {},
   "outputs": [],
   "source": [
    "df['perform']  = df['Profit']/(df['Sales']-df['Discount'])\n",
    "\n",
    "df = df.groupby(['Customer Name', 'Segment']).agg(\n",
    "    {\n",
    "        'perform': ['mean']\n",
    "    }\n",
    ").reset_index()\n",
    "\n",
    "df.columns = [t[0] for t in df.columns]"
   ]
  },
  {
   "cell_type": "code",
   "execution_count": 5,
   "metadata": {},
   "outputs": [],
   "source": [
    "def f(x):\n",
    "    \n",
    "    if x<0.1:\n",
    "        return \"E\"\n",
    "    elif (x>-0.1) and (x<0.15):\n",
    "        return \"D\"\n",
    "    elif (x>-0.15) and (x<0.2):\n",
    "        return \"C\"\n",
    "    elif (x>-0.2) and (x<0.25):\n",
    "        return \"B\"\n",
    "    elif (x>-0.25):\n",
    "        return \"A\"\n",
    "\n",
    "\n",
    "df['perform'] = df.apply(lambda row: f(row['perform']), axis=1)"
   ]
  },
  {
   "cell_type": "code",
   "execution_count": 6,
   "metadata": {},
   "outputs": [],
   "source": [
    "#exportando csv configurações do MS excel\n",
    "df.to_csv('result_q3.csv', sep=';', index=False, encoding='utf-8-sig')"
   ]
  },
  {
   "cell_type": "code",
   "execution_count": null,
   "metadata": {},
   "outputs": [],
   "source": []
  }
 ],
 "metadata": {
  "colab": {
   "provenance": []
  },
  "kernelspec": {
   "display_name": "Python 3",
   "language": "python",
   "name": "python3"
  },
  "language_info": {
   "codemirror_mode": {
    "name": "ipython",
    "version": 3
   },
   "file_extension": ".py",
   "mimetype": "text/x-python",
   "name": "python",
   "nbconvert_exporter": "python",
   "pygments_lexer": "ipython3",
   "version": "3.7.4"
  },
  "vscode": {
   "interpreter": {
    "hash": "1ca62ec6ea13cbf9143c5885804081fdcbbce2e17c374b325371ba6138d04c51"
   }
  }
 },
 "nbformat": 4,
 "nbformat_minor": 1
}
