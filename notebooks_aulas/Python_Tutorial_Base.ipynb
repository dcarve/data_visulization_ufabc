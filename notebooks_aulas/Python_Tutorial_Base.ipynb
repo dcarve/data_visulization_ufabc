{
  "nbformat": 4,
  "nbformat_minor": 0,
  "metadata": {
    "colab": {
      "provenance": []
    },
    "kernelspec": {
      "name": "python3",
      "display_name": "Python 3"
    },
    "language_info": {
      "name": "python"
    },
    "gpuClass": "standard"
  },
  "cells": [
    {
      "cell_type": "markdown",
      "source": [
        "# **Relambrando o Python**\n",
        "\n",
        "O objetivo desse tutorial é relembrar elementos importantes e básicos do Python que serão relevantes ao longo do curso. Portanto, seu objetivo não é prover informações aprofundadas e abrangentes da linguagem. Quando essas forem desejadas, as referências apresentadas ou materias digitais de boa qualidade serão as fontes mais adequadas para o aprofundamento.\n",
        "\n",
        "Bom estudo! :-)"
      ],
      "metadata": {
        "id": "Xv5ZYUU4PWKd"
      }
    },
    {
      "cell_type": "markdown",
      "source": [
        "# **Tipos de Dados**\n",
        "\n",
        "\n",
        "---\n",
        "\n",
        "O trecho 1 abaixo ilustra os principais tipos de dados encontrados no Python.\n",
        "\n",
        "Note que, diferente de outras linguagens de programação \n",
        "fortemente tipadas, o Python **NÃO** requer que você determine \n",
        "qual é o tipo de dados de uma variável **ANTES** de seu uso. Portanto, é uma classe de linguagem de programação denominada de Dynamically Typed."
      ],
      "metadata": {
        "id": "w0fILdQ57Mju"
      }
    },
    {
      "cell_type": "code",
      "execution_count": null,
      "metadata": {
        "id": "FdVT9H7S6wyG"
      },
      "outputs": [],
      "source": [
        "# ------------\n",
        "# Trecho 1 - Tipos dados Python\n",
        "# ------------\n",
        "name = 'Abraham Lincoln'\n",
        "print( type( name ) )\n",
        "name = 6.33999999999999999999999999999000000000000000000006\n",
        "print( type( name ) )\n",
        "name = 305127925769258727938193819283\n",
        "print( type( name ) )\n",
        "name = True\n",
        "print( type( name ) )"
      ]
    },
    {
      "cell_type": "markdown",
      "source": [
        "# **Estrutura de Dados**\n",
        "\n",
        "Além dos mencionados acima, o Python oferece outros tipos de dados mais complexos e interessantes na manipulação de dados, incluindo as discutidas nos trechos abaixo \n",
        "strings (str), lists (list), dictionaries (dict), tuples (tuple) ou vetores (array). Outras estruturas que vale à pena você saber mais são stacks, queues, priority queues, multisets, structs, maps e hask tables."
      ],
      "metadata": {
        "id": "hp8fUpdx9yhD"
      }
    },
    {
      "cell_type": "code",
      "source": [
        "# ------------\n",
        "# Trecho 2.a - Estruturas do Python\n",
        "# String: sequência de um ou mais caracteres\n",
        "# ------------\n",
        "s = 'Hello world!'\n",
        "print('O tamanho da string: ', len( s ))\n",
        "print('O caracter na setima posicao na string: ', s[6])\n",
        "print('Os caracteres entre a terceira e oitava posição: ', s[2:8] )\n",
        "print('O caracter na segunda posição contado a partir do fim da string: ', s[-2])\n",
        "print('Os três caracteres contados a partir do fim da string', s[-3:12])\n",
        "print(s + ' ' + 'I am here')"
      ],
      "metadata": {
        "id": "9wxSjE2x-d55"
      },
      "execution_count": null,
      "outputs": []
    },
    {
      "cell_type": "code",
      "source": [
        "# ------------\n",
        "# Trecho 2.b - Estruturas do Python\n",
        "# List: lista de valores ordenados\n",
        "# ------------\n",
        "l = [1,2,3,4,5]\n",
        "print('O tamanho da lista: ', len(l))\n",
        "print('O valor na terceira posicao na string: ', l[2])\n",
        "print('Os valores na segunda e terceira posição na lista: ', l[1:3])\n",
        "print('O valor na segunda a partir do fim da lista: ', l[-2])\n",
        "print('Os três valores contados a partir do fim da lista: ', l[-3:5])\n",
        "m = [-20,-30,-40]\n",
        "print( l + m )"
      ],
      "metadata": {
        "id": "gE2cFedfCTcQ"
      },
      "execution_count": null,
      "outputs": []
    },
    {
      "cell_type": "code",
      "source": [
        "# ------------\n",
        "# Trecho 2.c - Estruturas do Python\n",
        "# Dict: coleção de pares chave-valor\n",
        "# ------------\n",
        "d = { '91': 'Edson Arantes do Nascimento' }\n",
        "d['92'] = 'Lionel Messi'\n",
        "d['93'] = 'Dept of Computer Science'\n",
        "print(d)\n",
        "print('Quem é O cara: ', d['91'] )"
      ],
      "metadata": {
        "id": "T6IcGnG4FrJv"
      },
      "execution_count": null,
      "outputs": []
    },
    {
      "cell_type": "code",
      "source": [
        "# ------------\n",
        "# Trecho 2.d - Estruturas do Python\n",
        "# Tuple: lista de valores ordenados onde a posição do valor possui um significando semântico, \n",
        "# como atributos de um tupla de um banco de dados relacional\n",
        "# ------------\n",
        "t = ( 2013, 10, 28, 14, 15, 0 )\n",
        "print('O tamanho da tupla: ', len(t))\n",
        "print('O valor na terceira posicao na tupla: ', t[0])\n",
        "print('Os valores na segunda e terceira posição na lista: ', t[1:3])\n",
        "print('O valor na segunda a partir do fim da lista: ', t[-2])\n",
        "print('Os três valores contados a partir do fim da lista: ', t[-3:6])\n",
        "t1 = (-20,-30,-40)\n",
        "print( t + t1 )"
      ],
      "metadata": {
        "id": "qiudO7GtEqLv"
      },
      "execution_count": null,
      "outputs": []
    },
    {
      "cell_type": "code",
      "source": [
        "# ------------\n",
        "# Trecho 2.e - Estruturas do Python\n",
        "# Vetores: Armazena múltiplos valores em uma única variável.\n",
        "# É possível utilizar a idea de vetores por meio de uma lista (list) ou utilizando a\n",
        "# biblioteca Numpy (caso discutido baixo)\n",
        "# ------------\n",
        "\n",
        "# Importando NUMPY\n",
        "import numpy as np\n",
        "\n",
        "# Cria um vetor bidimensional, tbém conhecida como matriz NxM\n",
        "vetorBidim = np.array([[2,3,5,7],[11,13,17,19], [23,29,30,37,], [41,43,47,49]])\n",
        "print('Qual é o meu tipo de dado?', vetorBidim.dtype)\n",
        "print('Qual é minha dimensionalidade e com quantos elementos?', vetorBidim.shape)\n",
        "print('Os elementos da linha 1 e coluna 1 são: ', vetorBidim[0,:], vetorBidim[:,0])\n",
        "print('Obtendo elementos a partir dos extremos: ', vetorBidim[0,-1], vetorBidim[-1,0])\n",
        "print('Cortando o vetor bidimensional: ', vetorBidim[1:3,[1,3]])\n",
        "print('Cortando o vetor bidimensional: ', vetorBidim[1:3,1:3])\n",
        "vetorFiltro = vetorBidim%2 == 0\n",
        "print('Eu quero uma vetor de valores pares!', vetorBidim[vetorFiltro])\n",
        "\n",
        "# É possível determinar o tipo de dados no momento da definição do vetor\n",
        "vetorUnidim = np.array([1, 20, 3, -4], dtype='S')\n",
        "print('Qual é o meu tipo de dado?', vetorUnidim.dtype)\n",
        "print('Qual é o meu tipo de dado?', vetorUnidim[1:3])\n",
        "print('Qual é minha dimensionalidade e com quantos elementos?', vetorUnidim.shape)\n",
        "print('Meu vetor ordenado', np.sort(vetorUnidim))\n",
        "\n",
        "\n",
        "# Geração randômica de vetores\n",
        "vetorRand = np.random.randint(100, size=(3, 5))\n",
        "print('Meu vetor randômico', vetorRand) \n"
      ],
      "metadata": {
        "id": "FUKeu_p2GwvO"
      },
      "execution_count": null,
      "outputs": []
    },
    {
      "cell_type": "markdown",
      "source": [
        "# **Condicionais**\n",
        "\n",
        "Instruções condicionais permitem determinar quais declarações são executadas ou quantas vezes."
      ],
      "metadata": {
        "id": "LPtsAa_3G8Aw"
      }
    },
    {
      "cell_type": "code",
      "source": [
        "# ------------\n",
        "# Trecho 3 - Condicionais no Python\n",
        "# IF - estrutura de decisão \n",
        "# For/While - estruturas de repetição cujo conteúdo é posicional (deve estar tabulado como abaixo)\n",
        "# ------------\n",
        "grade = [7.5, 3.2, 9.1]\n",
        "for g in grade:  # O ':' é obrigatório!\n",
        "    if g >= 9:   # O ':' é obrigatório!\n",
        "      passed = True\n",
        "      letter = 'A'\n",
        "    elif g >= 8:\n",
        "      passed = True\n",
        "      letter = 'B'\n",
        "    elif g >= 6:\n",
        "      passed = True\n",
        "      letter = 'C'\n",
        "    elif g >= 5:\n",
        "      passed = True\n",
        "      letter = 'D'\n",
        "    else:\n",
        "      passed = False\n",
        "      letter = 'F'\n",
        "    print( g, passed, letter )"
      ],
      "metadata": {
        "id": "Mkvuz_u2HUnv"
      },
      "execution_count": null,
      "outputs": []
    },
    {
      "cell_type": "markdown",
      "source": [
        "# **Manipulando Arquivos TEXTO**\n",
        "\n",
        "Arquivos cujos valores são separados por tamanhos pré-estabelecidos, isto é, sem o uso de qualquer separador."
      ],
      "metadata": {
        "id": "iBYrWCFi3MM_"
      }
    },
    {
      "cell_type": "code",
      "source": [
        "# ------------\n",
        "# Trecho 4 - Manipulação de Arquivos Texto no Python\n",
        "# ------------\n",
        "\n",
        "# Carga do Pydrive - API que facilita o acesso a arquivos no Google Drive\n",
        "from pydrive.auth import GoogleAuth\n",
        "from pydrive.drive import GoogleDrive\n",
        "from google.colab import auth\n",
        "from oauth2client.client import GoogleCredentials\n",
        "\n",
        "#\n",
        "auth.authenticate_user()\n",
        "gauth = GoogleAuth()\n",
        "gauth.credentials = GoogleCredentials.get_application_default()\n",
        "drive = GoogleDrive(gauth)\n",
        "\n",
        "# Uma vez realizada a autenticação, carregamos para o COLAB corrente o arquivo informado\n",
        "# Note que esse operação tornará o arquivo disponível na seção ARQUIVOS\n",
        "# Ao encerrar a seção, este arquivo desaparece\n",
        "downloaded = drive.CreateFile({'id':\"1bNCVd2jtqctBz5xB1OOzrluCSSjzZXrG\"})   # replace the id with id of file you want to access\n",
        "downloaded.GetContentFile('arquivoTEXTO.txt')\n",
        "\n",
        "# 1o. Parm: Nome do Arquivo\n",
        "# 2o. Parm: Modo de Acesso - leitura (r), Gravação com truncagem do arquivo (w), Append no final do arquivo (a), dentre outros\n",
        "# 3o. Parm: Coding / Encoding dos caracteres\n",
        "inp = open( 'arquivoTEXTO.txt', 'r+', encoding='utf8' )\n",
        "line = inp.readlines()\n",
        "print(' Esse arquivo possui ', len (line), ' linhas' )\n",
        "for l in line:\n",
        "  print (l)\n",
        "\n",
        "# Acrescentando uma linha no final do arquivo\n",
        "var = '\\r\\n' + 'Pale shelter        Tears for Fears' + '\\r\\n'\n",
        "inp.write(var)\n",
        "\n",
        "# Volta ao início do arquivo e apresenta o novo conteúdo\n",
        "inp.seek(0)\n",
        "print ('\\n \\n Temos um novo conteúdo.....')\n",
        "line = inp.readlines()\n",
        "for l in line:\n",
        "  print (l)\n",
        "\n",
        "# Fecha arquivo\n",
        "inp.close()"
      ],
      "metadata": {
        "id": "V9tfuV4J3enn"
      },
      "execution_count": null,
      "outputs": []
    },
    {
      "cell_type": "markdown",
      "source": [
        "# **Manipulando Arquivos CSV**\n",
        "\n",
        "Arquivos cujos valores são separados por vírgula (usualmente), mas também podem apresentar outros separadores como ponto-e-vírgula, espaço ou tabulação. Para a manipulação desses arquivos iremos utilizar a biblioteca PANDAS.\n",
        "\n",
        "Os trechos de código abaixo apresentam:\n",
        "\n",
        "*   Trecho 5.a: Carga do Arquivo CSV utilizado para sua sessão\n",
        "*   Trecho 5.b: Manipulação do Arquivo via PANDAS - Características\n",
        "*   Trecho 5.c: Manipulação do Arquivo via PANDAS - Filtro e Acesso linha-a-linha\n",
        "\n",
        "\n",
        "\n",
        "\n"
      ],
      "metadata": {
        "id": "3hpkm3uiJtxw"
      }
    },
    {
      "cell_type": "code",
      "source": [
        "# ------------\n",
        "# Trecho 5.a - Manipulação de Arquivos Texto no Python\n",
        "# Carga do Pydrive - API que facilita o acesso a arquivos no Google Drive\n",
        "# Essa operação carrega um arquivo que está em um certo GDrive para a sua sessão GColab\n",
        "# ------------\n",
        "from pydrive.auth import GoogleAuth\n",
        "from pydrive.drive import GoogleDrive\n",
        "from google.colab import auth\n",
        "from oauth2client.client import GoogleCredentials\n",
        "#\n",
        "auth.authenticate_user()\n",
        "gauth = GoogleAuth()\n",
        "gauth.credentials = GoogleCredentials.get_application_default()\n",
        "drive = GoogleDrive(gauth)\n",
        "\n",
        "# Uma vez realizada a autenticação, carregamos para o COLAB corrente o arquivo informado\n",
        "# Note que esse operação tornará o arquivo disponível na seção ARQUIVOS\n",
        "# Ao encerrar a seção, este arquivo desaparece\n",
        "downloaded = drive.CreateFile({'id':\"1c0FiLWc3TftkY07nK4zx3WX5Ry-3hMfw\"})   # replace the id with id of file you want to access\n",
        "downloaded.GetContentFile('population.csv')"
      ],
      "metadata": {
        "id": "edW2c6ukvTvC"
      },
      "execution_count": null,
      "outputs": []
    },
    {
      "cell_type": "code",
      "source": [
        "# ------------\n",
        "# Trecho 5.b - Manipulação de Arquivos Texto no Python\n",
        "# Utiliza biblioteca PANDAS para carregar os dados CSV e obter suas características\n",
        "# PANDAS - biblioteca de data manipulation que estende o NUMPY\n",
        "# ------------\n",
        "import pandas as pd\n",
        "\n",
        "#\n",
        "fi = pd.read_csv('population.csv')\n",
        "\n",
        "# Caracteristicas do Arquivo\n",
        "print('Qual é o meu tipo? \\n', type(fi))\n",
        "print('Qual é o meu número de Linhas e Colunas? \\n', fi.shape)\n",
        "print('Quais são minhas Colunas? \\n', fi.columns)\n",
        "print('Informações estatísticas (só para atributos numéricos) \\n', fi.describe())\n",
        "print('Espaço ocupado \\n',fi.dtypes)\n",
        "\n",
        "# Caracteristicas de um Atributo específico, por exemplo, Year\n",
        "print('Qual é o domínio do atributo? \\n', fi.Year.unique())\n",
        "\n",
        "# Nossa PRIMEIRA Visualização\n",
        "fi.Year.plot.hist()"
      ],
      "metadata": {
        "id": "lt0q_DWD-59z"
      },
      "execution_count": null,
      "outputs": []
    },
    {
      "cell_type": "code",
      "source": [
        "# ------------\n",
        "# Trecho 5.c - Manipulação de Arquivos Texto no Python\n",
        "# Utiliza biblioteca PANDAS para carregar os dados CSV e obter suas características\n",
        "# PANDAS - biblioteca de data manipulation que estende o NUMPY\n",
        "# ------------\n",
        "\n",
        "# É necessário executar o trecho 5.a!!!\n",
        "fi = pd.read_csv('population.csv')\n",
        "\n",
        "# Manipulando valores Linha-por-Linha de colunas específicas\n",
        "print ('\\n Leitura linha-a-linha....\\n')\n",
        "for index, row in fi.iterrows():\n",
        "    print('Linha: ', index, 'Pais: ', row['Country Name'], 'Populacao :', row['Value'])\n",
        "    if index > 5:\n",
        "       break\n",
        "\n",
        "# Filtrando valores por POSIÇÃO\n",
        "print ('\\n Filtros por blocos....\\n')\n",
        "print('Os valores de uma das colunas do arquivo: \\n', fi[['Country Code','Value']])\n",
        "print('As linhas 20 e 294 de uma coluna específica \\n', fi.loc[[20, 294], ['Country Name']])\n",
        "print('As 4 primeiras e últimas linhas \\n', fi[:4])\n",
        "print('As 4 últimas linhas \\n', fi[-4:])\n",
        "print('As linhas 20 a 24 \\n', fi[20:24])\n",
        "\n",
        "# Filtrando valores por CONDIÇÃO\n",
        "print ('\\n Filtros por condição....\\n')\n",
        "fiFiltered = fi[fi['Year'] == 1972]\n",
        "print ('\\n Quantos registros de 1972? \\n', fiFiltered.shape[0])\n",
        "fiFiltered = fi[(fi['Year'] >= 1970) & (fi['Year'] <= 1990)]\n",
        "print ('\\n Quantos registros entre 1970 e 1990? \\n', fiFiltered.shape[0])\n",
        "fiFiltered = fi[fi['Country Name'].str.lower().str.contains(\"br\")]\n",
        "print ('\\n Quantos registros possuem br no nome do pais? \\n', fiFiltered.shape[0])\n",
        "fiFiltered = fi[fi['Year'].isin ([1972,1981,1990])]\n",
        "\n",
        "# Liberando espaço ao eliminar o dataframe\n",
        "del fi"
      ],
      "metadata": {
        "id": "FjziiXBCXFGn"
      },
      "execution_count": null,
      "outputs": []
    },
    {
      "cell_type": "markdown",
      "source": [
        "# **Funções**\n",
        "\n",
        "Mecanismo elegante que permite organizar o código.\n",
        "\n",
        "O trecho 7.a apresenta a definição de uma função e sua chamada ordinária em qualquer ponto de um programa. Por sua vez, o trecho 7.b apresenta como aplicar uma função utilizando PANDAS."
      ],
      "metadata": {
        "id": "uvDgw0M5wYR5"
      }
    },
    {
      "cell_type": "code",
      "source": [
        "# ------------\n",
        "# Trecho 7.a - Funções no Python\n",
        "# ------------\n",
        "\n",
        "# Define uma função que realiza o cálculo de FIBONACCI\n",
        "def fib( n ):\n",
        "  if n <= 0:\n",
        "    return 0\n",
        "  elif n == 1:\n",
        "    return 1\n",
        "  else:\n",
        "    return fib( n - 1 ) + fib( n - 2 )\n",
        "\n",
        "# Uma vez definida a funão, pode-se chamá-la à vontade\n",
        "print (fib (2))\n",
        "print (fib (5))"
      ],
      "metadata": {
        "id": "3plz5GVTKtnw"
      },
      "execution_count": null,
      "outputs": []
    },
    {
      "cell_type": "code",
      "source": [
        "# ------------\n",
        "# Trecho 7.b - Funções no Python\n",
        "# Utilizando PANDAS\n",
        "# ------------\n",
        "\n",
        "# É necessário executar o trecho 5.a!!!\n",
        "fi = pd.read_csv('population.csv')\n",
        "\n",
        "# Filtra somente registros de certo país\n",
        "fiFiltered = fi[fi['Country Name'].str.lower().str.contains(\"brazil\") & (fi['Year'].isin([1980,1990,2000]))]\n",
        "total = fiFiltered.Value.sum()\n",
        "\n",
        "# Define função que realiza o cálculo do percentual frente ao total\n",
        "def CalculatePercentage(v):\n",
        "    return v/total*100\n",
        "\n",
        "# Aplica a função sobre o atributo 'value'\n",
        "fiFiltered.Value = fiFiltered.Value.apply(CalculatePercentage)\n",
        "print (fiFiltered)"
      ],
      "metadata": {
        "id": "5NESjLBIJvJG"
      },
      "execution_count": null,
      "outputs": []
    }
  ]
}